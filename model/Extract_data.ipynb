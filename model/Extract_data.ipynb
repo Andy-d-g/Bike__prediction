{
 "cells": [
  {
   "cell_type": "markdown",
   "metadata": {},
   "source": [
    "# Fichier visant à récupérer les data et à les mettre dans une table unique"
   ]
  },
  {
   "cell_type": "code",
   "execution_count": 2,
   "metadata": {},
   "outputs": [],
   "source": [
    "import datetime\n",
    "import mysql.connector\n",
    "import numpy as np\n",
    "import os\n",
    "import pandas as pd "
   ]
  },
  {
   "cell_type": "markdown",
   "metadata": {},
   "source": [
    "## Connection à la base de donnée et récupération des tables sous forme de df"
   ]
  },
  {
   "cell_type": "code",
   "execution_count": null,
   "metadata": {},
   "outputs": [],
   "source": [
    "# Connexion a la database\n",
    "\n",
    "def connexion_db():\n",
    "    mydb = mysql.connector.connect(\n",
    "      host=\"hostname\",\n",
    "      user=\"username\",\n",
    "      password='password',\n",
    "      database=\"databasename\"\n",
    "    )\n",
    "\n",
    "    # Récupération des data concernant les compteurs de Rivoli et de Sebastopol (heure par heure)\n",
    "    mycursor = mydb.cursor()\n",
    "    mycursor.execute('SELECT * FROM bike')\n",
    "\n",
    "    columns = [i[0] for i in mycursor.description]\n",
    "    table_rows = mycursor.fetchall()\n",
    "\n",
    "    df_borne = pd.DataFrame(table_rows,columns=columns)\n",
    "\n",
    "    # Récupération des data concernant les jours des vacances et le jour de la semaine\n",
    "    mycursor = mydb.cursor()\n",
    "    mycursor.execute('SELECT * FROM calendar')\n",
    "\n",
    "    columns = [i[0] for i in mycursor.description]\n",
    "    table_rows = mycursor.fetchall()\n",
    "\n",
    "    df_calendrier = pd.DataFrame(table_rows,columns=columns)\n",
    "\n",
    "    # Récupération des data concernant la météo (température, humidité, nébulosité, précipitation) (Toutes les 3h)\n",
    "    mycursor = mydb.cursor()\n",
    "    mycursor.execute('SELECT * FROM weather')\n",
    "\n",
    "    columns = [i[0] for i in mycursor.description]\n",
    "    table_rows = mycursor.fetchall()\n",
    "\n",
    "    df_meteo = pd.DataFrame(table_rows,columns=columns)\n",
    "\n",
    "    # Fermeture de la connexion à la db\n",
    "    mydb.close() \n",
    "    \n",
    "    return(df_borne,df_meteo,df_calendrier)"
   ]
  },
  {
   "cell_type": "markdown",
   "metadata": {},
   "source": [
    "## Mise en forme dans un dataframe unique"
   ]
  },
  {
   "cell_type": "code",
   "execution_count": 3,
   "metadata": {},
   "outputs": [],
   "source": [
    "def get_dataset():\n",
    "    \n",
    "    df_borne,df_meteo,df_calendrier = connexion_db()\n",
    "\n",
    "    # Convertion des dates dans le même format\n",
    "    df_calendrier['date'] = pd.to_datetime(df_calendrier['date'],utc=True).dt.tz_localize(None)\n",
    "    df_borne['date'] = pd.to_datetime(df_borne['date'],utc=True).dt.tz_localize(None)\n",
    "    df_meteo.date = pd.to_datetime(df_meteo.date,format='%Y%m%d%H%M%S',utc=True).dt.tz_localize(None)\n",
    "\n",
    "    # Transformation des données méteo en float\n",
    "    df_meteo['rr1'] = df_meteo['rr1'].replace(\"mq\",np.nan)\n",
    "    df_meteo['rr3'] = df_meteo['rr3'].replace(\"mq\",np.nan)\n",
    "    df_meteo['n'] = df_meteo['n'].replace(\"mq\",np.nan)\n",
    "    df_meteo[['ff','t','u','n','rr1','rr3']] = df_meteo[['ff','t','u','n','rr1','rr3']].astype(float)\n",
    "\n",
    "    # Selection des deux plus gros compteurs\n",
    "    df_sebastopol = df_borne[df_borne['id_compteur']=='100057445-104057445'].sort_values(by='date')[['date','sum_counts']]\n",
    "    df_rivoli = df_borne[df_borne['id_compteur']=='100050876-104050876'].sort_values(by='date')[['date','sum_counts']]\n",
    "\n",
    "    # Jointure des données meteo pour le compteur Rivoli\n",
    "    df_meteo = df_meteo.set_index(df_meteo.date).drop(columns='date')\n",
    "    df_rivoli = df_rivoli.set_index(df_rivoli['date'])\n",
    "    df_rivoli = df_rivoli.join(df_meteo).fillna(method='bfill').fillna(method='ffill').reset_index(drop = True)\n",
    "\n",
    "    # Jointure des données meteo pour le compteur Sebastopol\n",
    "    df_sebastopol = df_sebastopol.set_index(df_sebastopol['date'])\n",
    "    df_sebastopol = df_sebastopol.join(df_meteo).fillna(method='bfill').fillna(method='ffill').reset_index(drop = True)\n",
    "\n",
    "    # Jointure des données calendaires \n",
    "    df_calendrier = df_calendrier.set_index(df_calendrier.date.dt.date).drop(columns='date')\n",
    "    df_rivoli = df_rivoli.set_index(df_rivoli.date.dt.date)\n",
    "    df_rivoli = df_rivoli.join(df_calendrier)\n",
    "\n",
    "    df_sebastopol = df_sebastopol.set_index(df_sebastopol.date.dt.date)\n",
    "    df_sebastopol = df_sebastopol.join(df_calendrier)\n",
    "    \n",
    "    return(df_sebastopol,df_rivoli)"
   ]
  }
 ],
 "metadata": {
  "kernelspec": {
   "display_name": "Python 3 (ipykernel)",
   "language": "python",
   "name": "python3"
  },
  "language_info": {
   "codemirror_mode": {
    "name": "ipython",
    "version": 3
   },
   "file_extension": ".py",
   "mimetype": "text/x-python",
   "name": "python",
   "nbconvert_exporter": "python",
   "pygments_lexer": "ipython3",
   "version": "3.10.9"
  }
 },
 "nbformat": 4,
 "nbformat_minor": 4
}
